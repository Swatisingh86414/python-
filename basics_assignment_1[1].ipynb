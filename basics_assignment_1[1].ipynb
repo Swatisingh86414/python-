{
 "cells": [
  {
   "cell_type": "markdown",
   "id": "ad43ebe7-29f2-45c6-a096-0e73eb045c0a",
   "metadata": {},
   "source": [
    "# Python Basics Assignment -1"
   ]
  },
  {
   "cell_type": "markdown",
   "id": "487c634d-8ae7-42ff-b414-f2a0a96280ad",
   "metadata": {},
   "source": [
    " # 1 Using Python script as a calculator\n",
    "Create the variables n, r, p and assign them values 10, 5, and 100 respectively. Then\n",
    "evaluate the following expression in the Python console.\n",
    "𝐴 = 𝑝 (1 + 𝑟/ 100)n\n",
    "a. 100\n",
    "b. 162.89\n",
    "c. 189\n",
    "d. None of the above"
   ]
  },
  {
   "cell_type": "code",
   "execution_count": 4,
   "id": "97629262-2dc8-44db-be9b-d395167d262e",
   "metadata": {},
   "outputs": [
    {
     "name": "stdout",
     "output_type": "stream",
     "text": [
      "162.8894626777442\n"
     ]
    }
   ],
   "source": [
    "n=10\n",
    "r=5\n",
    "p=100\n",
    "A = p * (1 + r / 100) ** n\n",
    "print(A)"
   ]
  },
  {
   "cell_type": "markdown",
   "id": "eb2859ba-ed6c-4454-a0a4-f92a194cd328",
   "metadata": {},
   "source": [
    "#  2.In a given string format operation, how will you print the given string.\n",
    "A = 10\n",
    "B = 20\n",
    "Str = \"There are {} students in the class, with {} who play at least one sport.\n",
    "a. print(string.format(a,b))\r\n",
    "b. print(string+a+b)\r\n",
    "c. print(string.format(b,a))\r\n",
    "d. None of the above"
   ]
  },
  {
   "cell_type": "code",
   "execution_count": 6,
   "id": "68ef762c-4fad-4d1c-be60-b3b322ca60e2",
   "metadata": {},
   "outputs": [
    {
     "name": "stdout",
     "output_type": "stream",
     "text": [
      "There are 10 students in the class, with 20 who play at least one sport.\n"
     ]
    }
   ],
   "source": [
    "A = 10\n",
    "B = 20\n",
    "Str = \"There are {} students in the class, with {} who play at least one sport.\"\n",
    "print(Str.format(10, 20))\n"
   ]
  },
  {
   "cell_type": "markdown",
   "id": "ecf7420b-73c1-4e01-b7ae-0241e5ddf843",
   "metadata": {},
   "source": [
    " # 3. In a given sample string, How do you print a double quoted string in between a\n",
    "regular\n",
    "string using the escape character?\n",
    "Sample output = It goes without saying, “Time is Money”, and none can deny it.\n",
    "a. print(“It goes without saying, \\“Time is Money\\”, and none can deny it.”)\n",
    "b. print(“It goes without saying, \\Time is Money\\, and none can deny it.”)\n",
    "c. print(“It goes without saying” + “Time is Money” + “and none can deny it.”)\n",
    "d. None of the above."
   ]
  },
  {
   "cell_type": "code",
   "execution_count": 17,
   "id": "73a0c3d4-0c67-46dd-9113-c4e172bba170",
   "metadata": {},
   "outputs": [
    {
     "ename": "SyntaxError",
     "evalue": "invalid character '“' (U+201C) (178238396.py, line 1)",
     "output_type": "error",
     "traceback": [
      "\u001b[1;36m  Cell \u001b[1;32mIn[17], line 1\u001b[1;36m\u001b[0m\n\u001b[1;33m    It goes without saying, “Time is Money”, and none can deny it.\u001b[0m\n\u001b[1;37m                            ^\u001b[0m\n\u001b[1;31mSyntaxError\u001b[0m\u001b[1;31m:\u001b[0m invalid character '“' (U+201C)\n"
     ]
    }
   ],
   "source": [
    "It goes without saying, “Time is Money”, and none can deny it.\n",
    "print(\"It goes without saying, \\\"Time is Money\\\", and none can deny it.\")\n"
   ]
  },
  {
   "cell_type": "code",
   "execution_count": 18,
   "id": "e339ab77-93f8-4675-8ef9-e7842858f4fc",
   "metadata": {},
   "outputs": [
    {
     "name": "stdout",
     "output_type": "stream",
     "text": [
      "It goes without saying, \\Time is Money\\, and none can deny it.\n"
     ]
    },
    {
     "name": "stderr",
     "output_type": "stream",
     "text": [
      "<>:1: SyntaxWarning: invalid escape sequence '\\T'\n",
      "<>:1: SyntaxWarning: invalid escape sequence '\\T'\n",
      "C:\\Users\\acer\\AppData\\Local\\Temp\\ipykernel_14200\\3152569265.py:1: SyntaxWarning: invalid escape sequence '\\T'\n",
      "  print(\"It goes without saying, \\Time is Money\\, and none can deny it.\")\n"
     ]
    }
   ],
   "source": [
    "print(\"It goes without saying, \\Time is Money\\, and none can deny it.\")\n"
   ]
  },
  {
   "cell_type": "code",
   "execution_count": 19,
   "id": "378b463e-e83d-45a8-859c-62d918eab6e4",
   "metadata": {},
   "outputs": [
    {
     "name": "stdout",
     "output_type": "stream",
     "text": [
      "It goes without sayingTime is Moneyand none can deny it.\n"
     ]
    }
   ],
   "source": [
    "print(\"It goes without saying\" + \"Time is Money\" + \"and none can deny it.\")\n"
   ]
  },
  {
   "cell_type": "code",
   "execution_count": null,
   "id": "b0bee254-ef9a-48e9-9f00-c455b9f92811",
   "metadata": {},
   "outputs": [],
   "source": [
    "result (d)"
   ]
  },
  {
   "cell_type": "markdown",
   "id": "5fc4be17-e3ea-431f-a863-8243582abb9e",
   "metadata": {},
   "source": [
    "# 4 What will be the output of the following code?\n",
    "x = lambda a,b: a//b\n",
    "x(10,3)\n",
    "a. 3.3333333333\n",
    "b. 3\n",
    "c. 30\n",
    "d. 1000"
   ]
  },
  {
   "cell_type": "code",
   "execution_count": null,
   "id": "cabe0e44-d5e7-48ba-b21a-f5202d712fca",
   "metadata": {},
   "outputs": [],
   "source": [
    "x = lambda a, b: a // b\n",
    "x = (10, 3)"
   ]
  },
  {
   "cell_type": "code",
   "execution_count": 5,
   "id": "1528a71c-b5b1-4e6c-bb0b-d0bd7c0d7c75",
   "metadata": {},
   "outputs": [],
   "source": [
    "x=10//3"
   ]
  },
  {
   "cell_type": "code",
   "execution_count": 6,
   "id": "3f823412-3247-487f-8630-4d8794132555",
   "metadata": {},
   "outputs": [
    {
     "name": "stdout",
     "output_type": "stream",
     "text": [
      "3\n"
     ]
    }
   ],
   "source": [
    "print (x)"
   ]
  },
  {
   "cell_type": "markdown",
   "id": "9c22676b-c499-4ad5-b11d-1cc00542f39b",
   "metadata": {},
   "source": [
    " # 5 What will be the output of the following code?\n",
    "A = 10\n",
    "B = 12\n",
    "print(\"Smaller\") if A == B else print(\"Greater\") if A < B else print(\"True\")\n",
    "a. True\n",
    "b. Smaller\n",
    "c. Greater\n",
    "d. None of the above"
   ]
  },
  {
   "cell_type": "code",
   "execution_count": 15,
   "id": "fd81f4e0-c1a7-4d04-a6d3-4d3b233c6482",
   "metadata": {},
   "outputs": [
    {
     "name": "stdout",
     "output_type": "stream",
     "text": [
      "Greater\n",
      "Greater\n",
      "Less than\n"
     ]
    }
   ],
   "source": [
    "A = 10\n",
    "B = 12\n",
    "print(\"Smaller\") if A == B else print(\"Greater\") if A < B else print(\"True\")\n",
    "if A == B:\n",
    "    print(\"smaller\")\n",
    "else:\n",
    "    print(\"Greater\")\n",
    "\n",
    "if A < B:\n",
    "    print(\"Less than\")\n",
    "else:\n",
    "    print(\"True\")\n",
    "\n"
   ]
  },
  {
   "cell_type": "code",
   "execution_count": 17,
   "id": "1dbefedc-2a7f-4714-927b-82fc370065fa",
   "metadata": {},
   "outputs": [
    {
     "name": "stdout",
     "output_type": "stream",
     "text": [
      "Greater\n",
      "Greater\n"
     ]
    }
   ],
   "source": [
    "A = 10\n",
    "B = 12\n",
    "\n",
    "print(\"Smaller\") if A == B else print(\"Greater\") if A < B else print(\"True\")\n",
    "\n",
    "\n",
    "if A == B:\n",
    "    print(\"Smaller\")\n",
    "elif A < B:\n",
    "    print(\"Greater\")\n",
    "else:\n",
    "    print(\"True\")\n"
   ]
  },
  {
   "cell_type": "markdown",
   "id": "fdcd49c4-494d-444b-a94c-65c6dcac88ac",
   "metadata": {},
   "source": [
    "# 6 What will be the output of the following code?\n",
    "a. [2 7 3 5 4 6]\n",
    "b. TypeError\n",
    "c. NameError: name 'numpy' is not defined\n",
    "d. None of the above"
   ]
  },
  {
   "cell_type": "code",
   "execution_count": 18,
   "id": "6fb486e4-913b-41aa-887e-58019eea99de",
   "metadata": {},
   "outputs": [
    {
     "name": "stdout",
     "output_type": "stream",
     "text": [
      "[2, 7, 3, 5, 4, 6]\n",
      "[2 7 3 5 4 6]\n"
     ]
    }
   ],
   "source": [
    "import numpy as np\n",
    "my_list1 = [2,7,3,5,4,6]\n",
    "print(my_list1)\n",
    "arr_1 = np.array(my_list1, dtype=int)\n",
    "print(arr_1)\n"
   ]
  },
  {
   "cell_type": "markdown",
   "id": "4bd95b9f-c71c-471e-9a27-9bf593d058cb",
   "metadata": {},
   "source": [
    "# 7  Create a string called ‘string’ with the value as “Machine Learning”. Which code(s)\n",
    "is/are appropriate to slice the substring “Learn”?\n",
    "a. string[slice(13,8,1)]\n",
    "b. string[slice(1,8,1)]\n",
    "c. string[8:14]\n",
    "d. string[slice(8,13,1)]"
   ]
  },
  {
   "cell_type": "code",
   "execution_count": 3,
   "id": "486e7a0e-db9e-4375-b36d-f48f08f321c4",
   "metadata": {},
   "outputs": [
    {
     "name": "stdout",
     "output_type": "stream",
     "text": [
      "Learn\n"
     ]
    }
   ],
   "source": [
    "\n",
    "string = \"Machine Learning\"\n",
    "substring = string[8:13]\n",
    "\n",
    "print(substring) \n",
    "\n"
   ]
  },
  {
   "cell_type": "code",
   "execution_count": 4,
   "id": "0a637572-1b15-4d78-b4a8-4f28c57fb1c6",
   "metadata": {},
   "outputs": [
    {
     "name": "stdout",
     "output_type": "stream",
     "text": [
      "Learn\n"
     ]
    }
   ],
   "source": [
    "\n",
    "start_index = string.find(\"Learn\")\n",
    "substring = string[start_index:start_index+5] \n",
    "\n",
    "print(substring) \n"
   ]
  },
  {
   "cell_type": "markdown",
   "id": "344fb655-dd7d-41e0-80f9-caf6580dfda8",
   "metadata": {},
   "source": [
    " # 8  Create a sequence of numbers from 10 to 25 and increment by 4. What is the index\n",
    "of the\n",
    "value 18?\n",
    "a. 3\n",
    "b. 2\n",
    "c. 0\n",
    "d. 1\n"
   ]
  },
  {
   "cell_type": "code",
   "execution_count": 5,
   "id": "962dfe29-a9e3-43b3-9406-ae45753e731d",
   "metadata": {},
   "outputs": [
    {
     "name": "stdout",
     "output_type": "stream",
     "text": [
      "[10, 14, 18, 22]\n"
     ]
    }
   ],
   "source": [
    "sequence = list(range(10, 26, 4))\n",
    "\n",
    "print(sequence)\n"
   ]
  },
  {
   "cell_type": "code",
   "execution_count": 6,
   "id": "e08b7fdb-e882-4f9e-ace6-4ba26c64d37b",
   "metadata": {},
   "outputs": [
    {
     "name": "stdout",
     "output_type": "stream",
     "text": [
      "2\n"
     ]
    }
   ],
   "source": [
    "index_of_18 = sequence.index(18)\n",
    "\n",
    "print(index_of_18)\n"
   ]
  },
  {
   "cell_type": "markdown",
   "id": "c8587d2a-aaff-4e50-8ba7-1908bb712a69",
   "metadata": {},
   "source": [
    "# 9 . Which of the following is true with respect to the below codes?\n",
    "a. num1 = num2\n",
    "b. num1 ≠ num2\n",
    "c. num1 < num2\n",
    "d. num1 > num2\n"
   ]
  },
  {
   "cell_type": "code",
   "execution_count": 19,
   "id": "2491d132-843f-4589-bad5-2fcb280f7fcc",
   "metadata": {},
   "outputs": [
    {
     "name": "stdout",
     "output_type": "stream",
     "text": [
      "625 625\n"
     ]
    }
   ],
   "source": [
    "num1= 5**4\n",
    "num2=pow(5,4)\n",
    "print (num1,num2)"
   ]
  },
  {
   "cell_type": "markdown",
   "id": "7c919e17-1ea9-44ce-bdbb-01a3208a2eff",
   "metadata": {},
   "source": [
    "# 10 A Python NameError exception is raised when: -\n",
    "a. Trying to access a variable which has not been defined\n",
    "b. Trying to access a key in a dictionary that does not exist\n",
    "c. Accessing a column with misspelled column name\n",
    "d. Accessing the function from a module that has not been imported"
   ]
  },
  {
   "cell_type": "code",
   "execution_count": null,
   "id": "75610c16-349b-46ff-ac7f-25423556b516",
   "metadata": {},
   "outputs": [],
   "source": [
    "# result\n",
    "print(x)  Raises NameError if x has not been defined\n",
    "\n",
    "(a) Trying to access a variable which has not been defined\n"
   ]
  },
  {
   "cell_type": "markdown",
   "id": "b7718a07-eaef-4bf1-af29-875f3b6af5a7",
   "metadata": {},
   "source": [
    "# 11 .What type of exception will be raised for the code given below?\n",
    "a. NameError\n",
    "b. KeyError\n",
    "c. ValueError\n",
    "d. AttributeError"
   ]
  },
  {
   "cell_type": "code",
   "execution_count": 20,
   "id": "fd968e51-a9b8-4f56-9f1d-68aa77dd9d82",
   "metadata": {},
   "outputs": [
    {
     "ename": "ValueError",
     "evalue": "invalid literal for int() with base 10: 'string'",
     "output_type": "error",
     "traceback": [
      "\u001b[1;31m---------------------------------------------------------------------------\u001b[0m",
      "\u001b[1;31mValueError\u001b[0m                                Traceback (most recent call last)",
      "Cell \u001b[1;32mIn[20], line 2\u001b[0m\n\u001b[0;32m      1\u001b[0m x\u001b[38;5;241m=\u001b[39m\u001b[38;5;124m'\u001b[39m\u001b[38;5;124mstring\u001b[39m\u001b[38;5;124m'\u001b[39m\n\u001b[1;32m----> 2\u001b[0m \u001b[38;5;28mint\u001b[39m(x)\n",
      "\u001b[1;31mValueError\u001b[0m: invalid literal for int() with base 10: 'string'"
     ]
    }
   ],
   "source": [
    "x='string'\n",
    "int(x)\n",
    "c. value error"
   ]
  },
  {
   "cell_type": "markdown",
   "id": "bbe432fb-2a6d-4546-93a8-b04f7eaec6ef",
   "metadata": {},
   "source": [
    "# 12 .A FileNotFoundError exception is raised by operating system errors when: -\n",
    "a. Trying to create a file or directory which already exists\n",
    "b. A file or directory is requested but does not exist in the working directory\n",
    "c. Trying to run an operation without the adequate access rights\n",
    "d. A directory operation, os.listdir() is requested on something which is not a directory"
   ]
  },
  {
   "cell_type": "code",
   "execution_count": null,
   "id": "0ce47e93-04f7-4469-b3b1-1f3b8b217bfd",
   "metadata": {},
   "outputs": [],
   "source": [
    "with open('nonexistent_file.txt', 'r') as file:  # Raises FileNotFoundError if the file does not exist\n",
    "    content = file.read() \n",
    " result (b) A file or directory is requested but does not exist in the working directory"
   ]
  },
  {
   "cell_type": "code",
   "execution_count": null,
   "id": "9645755e-fca0-4a42-b841-4946c4d85f7e",
   "metadata": {},
   "outputs": [],
   "source": [
    "# 13 Consider a variable Z. The value of Z is \"ID-5632\". Data type of Z is: -\n",
    "a. Complex\n",
    "b. Character\n",
    "c. Integer\n",
    "d. Boolean\n"
   ]
  },
  {
   "cell_type": "code",
   "execution_count": null,
   "id": "33b4aa17-6ca8-4772-85fe-cadb222018de",
   "metadata": {},
   "outputs": [],
   "source": [
    " result ( b) character"
   ]
  },
  {
   "cell_type": "markdown",
   "id": "d854695e-767a-45ff-9163-0b0baf006b21",
   "metadata": {},
   "source": [
    "# 14 Which of the following variable(s) are character data type?\n",
    "a. K= “4”\n",
    "b. J= “Welcome”\n",
    "c. L= “?”\n",
    "d. All of the above"
   ]
  },
  {
   "cell_type": "code",
   "execution_count": 2,
   "id": "0e898ce4-ccd6-4423-b2c2-c0778b7b7125",
   "metadata": {},
   "outputs": [
    {
     "name": "stdout",
     "output_type": "stream",
     "text": [
      "<class 'str'>\n"
     ]
    }
   ],
   "source": [
    "k=\"4\"\n",
    "print(type(k))"
   ]
  },
  {
   "cell_type": "code",
   "execution_count": 3,
   "id": "54d20b71-845d-4e64-8757-7063134e6813",
   "metadata": {},
   "outputs": [
    {
     "name": "stdout",
     "output_type": "stream",
     "text": [
      "<class 'str'>\n"
     ]
    }
   ],
   "source": [
    "j=\"welcome\"\n",
    "print(type(j))"
   ]
  },
  {
   "cell_type": "code",
   "execution_count": 4,
   "id": "dd1918b2-cd1f-45e3-ab97-b120ff27cdc1",
   "metadata": {},
   "outputs": [
    {
     "name": "stdout",
     "output_type": "stream",
     "text": [
      "<class 'str'>\n"
     ]
    }
   ],
   "source": [
    "L=\"?\"\n",
    "print(type(L))"
   ]
  },
  {
   "cell_type": "code",
   "execution_count": null,
   "id": "135082bb-0151-49e0-b83a-9de46153e629",
   "metadata": {},
   "outputs": [],
   "source": [
    "result = (d)"
   ]
  },
  {
   "cell_type": "markdown",
   "id": "cb93407a-973f-4979-945e-4a9296108c02",
   "metadata": {},
   "source": [
    "# 15 Choose the symbol/s that does not have the ability to convert any values to string?\n",
    "a. ( )\n",
    "b. “ ”\n",
    "c. {}\n",
    "d. #\n"
   ]
  },
  {
   "cell_type": "code",
   "execution_count": 5,
   "id": "43c606ff-d074-43e0-8413-3e3cff6481a3",
   "metadata": {},
   "outputs": [
    {
     "data": {
      "text/plain": [
       "int"
      ]
     },
     "execution_count": 5,
     "metadata": {},
     "output_type": "execute_result"
    }
   ],
   "source": [
    "result_a = (4)  \n",
    "type(result_a)"
   ]
  },
  {
   "cell_type": "code",
   "execution_count": 6,
   "id": "53b39d95-bf67-46d1-8edc-547ee50319ea",
   "metadata": {},
   "outputs": [
    {
     "data": {
      "text/plain": [
       "str"
      ]
     },
     "execution_count": 6,
     "metadata": {},
     "output_type": "execute_result"
    }
   ],
   "source": [
    "result_b = \"4\"  \n",
    "type(result_b)"
   ]
  },
  {
   "cell_type": "code",
   "execution_count": 7,
   "id": "9c5c19f2-14b9-44f0-ab2e-6ae664d5b44f",
   "metadata": {},
   "outputs": [
    {
     "data": {
      "text/plain": [
       "str"
      ]
     },
     "execution_count": 7,
     "metadata": {},
     "output_type": "execute_result"
    }
   ],
   "source": [
    "result_c = \"{}\".format(4)  \n",
    "type(result_c)"
   ]
  },
  {
   "cell_type": "code",
   "execution_count": null,
   "id": "b965d967-a0a1-456a-a290-f3c4d3d6e894",
   "metadata": {},
   "outputs": [],
   "source": [
    "result (a,d)"
   ]
  },
  {
   "cell_type": "markdown",
   "id": "ce8c74fb-2c89-4d47-9a0b-3455d3318d4f",
   "metadata": {},
   "source": [
    "# 16 Create a dictionary ‘Country’ that maps the following countries to their capitals\n",
    "respectively:\n",
    "\n",
    "Find 2 commands to replace “Marseilles” with “Paris” is:\r"
   ]
  },
  {
   "cell_type": "code",
   "execution_count": 8,
   "id": "1d123f98-1072-41e8-8515-fc1b09dfd954",
   "metadata": {},
   "outputs": [
    {
     "name": "stdout",
     "output_type": "stream",
     "text": [
      "{'India': 'Delhi', 'China': 'Beijing', 'Japan': 'Tokyo', 'Qatar': 'Doha', 'France': 'Marseilles'}\n"
     ]
    }
   ],
   "source": [
    "Country = {\n",
    "    \"India\": \"Delhi\",\n",
    "    \"China\": \"Beijing\",\n",
    "    \"Japan\": \"Tokyo\",\n",
    "    \"Qatar\": \"Doha\",\n",
    "    \"France\": \"Marseilles\"\n",
    "}\n",
    "\n",
    "print(Country)\n"
   ]
  },
  {
   "cell_type": "code",
   "execution_count": 9,
   "id": "57cd48d0-d368-4856-ac16-5369a66ba4b1",
   "metadata": {},
   "outputs": [
    {
     "name": "stdout",
     "output_type": "stream",
     "text": [
      "{'India': 'Delhi', 'China': 'Beijing', 'Japan': 'Tokyo', 'Qatar': 'Doha', 'France': 'Paris'}\n"
     ]
    }
   ],
   "source": [
    "Country[\"France\"] = \"Paris\"\n",
    "print(Country)\n"
   ]
  },
  {
   "cell_type": "markdown",
   "id": "e1a9665e-f903-487e-9da4-d38bab26db53",
   "metadata": {},
   "source": [
    "# 17 Create the tuples given below\n",
    "tuple_1 = (1,5,6,7,8)\n",
    "tuple_2 = (8,9,4)\n",
    "Identify which of the following code does not work on a tuple.\n",
    "a. sum(tuple_1)\n",
    "b. len(tuple_2)\n",
    "c. tuple_2 + tuple_1\n",
    "d. tuple_1[3] = 45\n"
   ]
  },
  {
   "cell_type": "code",
   "execution_count": 10,
   "id": "8cfbb7a3-eb9c-4979-895a-783b0095bc57",
   "metadata": {},
   "outputs": [
    {
     "name": "stdout",
     "output_type": "stream",
     "text": [
      "27\n"
     ]
    }
   ],
   "source": [
    "tuple_1 = (1, 5, 6, 7, 8)\n",
    "tuple_2 = (8, 9, 4)\n",
    "\n",
    "result_a = sum(tuple_1)\n",
    "print(result_a)  \n"
   ]
  },
  {
   "cell_type": "code",
   "execution_count": 11,
   "id": "e6e07768-2ea5-4f1e-8459-df1458a9510e",
   "metadata": {},
   "outputs": [
    {
     "name": "stdout",
     "output_type": "stream",
     "text": [
      "3\n"
     ]
    }
   ],
   "source": [
    "result_b = len(tuple_2)\n",
    "print(result_b)\n"
   ]
  },
  {
   "cell_type": "code",
   "execution_count": 12,
   "id": "4112a278-f338-4c43-95e8-451618af1a8e",
   "metadata": {},
   "outputs": [
    {
     "name": "stdout",
     "output_type": "stream",
     "text": [
      "(8, 9, 4, 1, 5, 6, 7, 8)\n"
     ]
    }
   ],
   "source": [
    "result_c = tuple_2 + tuple_1\n",
    "print(result_c)  \n"
   ]
  },
  {
   "cell_type": "code",
   "execution_count": 14,
   "id": "2a5b1e86-c9eb-4d03-9105-6b29ff6404a8",
   "metadata": {},
   "outputs": [
    {
     "ename": "TypeError",
     "evalue": "'tuple' object does not support item assignment",
     "output_type": "error",
     "traceback": [
      "\u001b[1;31m---------------------------------------------------------------------------\u001b[0m",
      "\u001b[1;31mTypeError\u001b[0m                                 Traceback (most recent call last)",
      "Cell \u001b[1;32mIn[14], line 2\u001b[0m\n\u001b[0;32m      1\u001b[0m tuple_1 \u001b[38;5;241m=\u001b[39m (\u001b[38;5;241m1\u001b[39m, \u001b[38;5;241m5\u001b[39m, \u001b[38;5;241m6\u001b[39m, \u001b[38;5;241m7\u001b[39m, \u001b[38;5;241m8\u001b[39m)\n\u001b[1;32m----> 2\u001b[0m tuple_1[\u001b[38;5;241m3\u001b[39m] \u001b[38;5;241m=\u001b[39m \u001b[38;5;241m45\u001b[39m\n",
      "\u001b[1;31mTypeError\u001b[0m: 'tuple' object does not support item assignment"
     ]
    }
   ],
   "source": [
    "tuple_1 = (1, 5, 6, 7, 8)\n",
    "tuple_1[3] = 45 "
   ]
  },
  {
   "cell_type": "code",
   "execution_count": null,
   "id": "992fb0a0-44e3-4331-bc1e-82196a281a28",
   "metadata": {},
   "outputs": [],
   "source": [
    "result (d) "
   ]
  },
  {
   "cell_type": "markdown",
   "id": "c83f610f-a673-437a-a023-919b2be62c52",
   "metadata": {},
   "source": [
    "# 18 How many elements in the following data structure? \n",
    "s={1,2,3,4,4,4,5,6}"
   ]
  },
  {
   "cell_type": "code",
   "execution_count": 15,
   "id": "a4eeab77-8fa8-439c-804e-9d08b310ba1d",
   "metadata": {},
   "outputs": [
    {
     "data": {
      "text/plain": [
       "6"
      ]
     },
     "execution_count": 15,
     "metadata": {},
     "output_type": "execute_result"
    }
   ],
   "source": [
    "s = {1, 2, 3, 4, 4, 4, 5, 6}\n",
    "len(s)\n"
   ]
  },
  {
   "cell_type": "markdown",
   "id": "6a85056b-bc41-4d9f-941c-c934e0bbf108",
   "metadata": {},
   "source": [
    "# 19 Write a function which finds all pythagorean triplets of triangles whose sides are no\n",
    "greater than a natural number N."
   ]
  },
  {
   "cell_type": "code",
   "execution_count": 16,
   "id": "f897ec55-dc5f-4c1b-9c22-dbd439919653",
   "metadata": {},
   "outputs": [
    {
     "name": "stdout",
     "output_type": "stream",
     "text": [
      "[(3, 4, 5), (5, 12, 13), (6, 8, 10), (8, 15, 17), (9, 12, 15), (12, 16, 20)]\n"
     ]
    }
   ],
   "source": [
    "def find_pythagorean_triplets(N):\n",
    "    triplets = []\n",
    "    \n",
    "    for a in range(1, N + 1):\n",
    "        for b in range(a, N + 1):\n",
    "            for c in range(b, N + 1):\n",
    "                if a * a + b * b == c * c:\n",
    "                    triplets.append((a, b, c))\n",
    "    return triplets\n",
    "N = 20\n",
    "triplets = find_pythagorean_triplets(N)\n",
    "print(triplets)\n"
   ]
  },
  {
   "cell_type": "code",
   "execution_count": null,
   "id": "58b06b77-3886-46cf-932f-58d800245e8e",
   "metadata": {},
   "outputs": [],
   "source": []
  },
  {
   "cell_type": "code",
   "execution_count": null,
   "id": "66b62cf5-b91e-490d-913f-9a6e38750b43",
   "metadata": {},
   "outputs": [],
   "source": []
  },
  {
   "cell_type": "code",
   "execution_count": null,
   "id": "f85c9439-695e-4d98-9f8e-2d17af9be1b1",
   "metadata": {},
   "outputs": [],
   "source": []
  },
  {
   "cell_type": "code",
   "execution_count": null,
   "id": "5535fb79-591f-4513-a6cf-a45d21dcbcf8",
   "metadata": {},
   "outputs": [],
   "source": []
  },
  {
   "cell_type": "code",
   "execution_count": null,
   "id": "d91f7637-271a-4138-8994-e4ddd01ad3a4",
   "metadata": {},
   "outputs": [],
   "source": []
  },
  {
   "cell_type": "code",
   "execution_count": null,
   "id": "60c0c9d2-733c-43f1-8072-50299d522c51",
   "metadata": {},
   "outputs": [],
   "source": []
  },
  {
   "cell_type": "code",
   "execution_count": null,
   "id": "eab760bf-a028-4fe1-8883-b2630ae1f367",
   "metadata": {},
   "outputs": [],
   "source": []
  }
 ],
 "metadata": {
  "kernelspec": {
   "display_name": "Python 3 (ipykernel)",
   "language": "python",
   "name": "python3"
  },
  "language_info": {
   "codemirror_mode": {
    "name": "ipython",
    "version": 3
   },
   "file_extension": ".py",
   "mimetype": "text/x-python",
   "name": "python",
   "nbconvert_exporter": "python",
   "pygments_lexer": "ipython3",
   "version": "3.12.4"
  }
 },
 "nbformat": 4,
 "nbformat_minor": 5
}
